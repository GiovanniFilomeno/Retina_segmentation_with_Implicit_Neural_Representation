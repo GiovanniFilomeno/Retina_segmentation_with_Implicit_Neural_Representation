{
 "cells": [
  {
   "cell_type": "code",
   "execution_count": 2,
   "metadata": {},
   "outputs": [
    {
     "name": "stdout",
     "output_type": "stream",
     "text": [
      "Patch generation completed.\n"
     ]
    }
   ],
   "source": [
    "import os\n",
    "import cv2\n",
    "import numpy as np\n",
    "\n",
    "# Percorsi delle cartelle\n",
    "image_dir = \"C:\\\\Users\\\\Q540900\\\\Desktop\\\\A.I. Master\\\\Werkstudent\\\\RAVIR Dataset\\\\train\\\\training_images\"\n",
    "mask_dir = \"C:\\\\Users\\\\Q540900\\\\Desktop\\\\A.I. Master\\\\Werkstudent\\\\RAVIR Dataset\\\\train\\\\training_masks\"\n",
    "output_image_dir = \"C:\\\\Users\\\\Q540900\\\\Desktop\\\\A.I. Master\\\\Werkstudent\\\\RAVIR Dataset\\\\train\\\\patch_images\"\n",
    "output_mask_dir = \"C:\\\\Users\\\\Q540900\\\\Desktop\\\\A.I. Master\\\\Werkstudent\\\\RAVIR Dataset\\\\train\\\\patch_masks\"\n",
    "\n",
    "# Crea le cartelle di output se non esistono\n",
    "os.makedirs(output_image_dir, exist_ok=True)\n",
    "os.makedirs(output_mask_dir, exist_ok=True)\n",
    "\n",
    "# Dimensione della patch\n",
    "patch_size = 256\n",
    "\n",
    "# Funzione per dividere l'immagine in patch\n",
    "def generate_patches(image, mask, patch_size):\n",
    "    patches = []\n",
    "    mask_patches = []\n",
    "    h, w = image.shape[:2]\n",
    "    for i in range(0, h, patch_size):\n",
    "        for j in range(0, w, patch_size):\n",
    "            patch = image[i:i+patch_size, j:j+patch_size]\n",
    "            mask_patch = mask[i:i+patch_size, j:j+patch_size]\n",
    "            if patch.shape[0] == patch_size and patch.shape[1] == patch_size:\n",
    "                patches.append(patch)\n",
    "                mask_patches.append(mask_patch)\n",
    "    return patches, mask_patches\n",
    "\n",
    "# Funzione per calcolare la varianza di una patch\n",
    "def calculate_variance(patch):\n",
    "    return np.var(patch)\n",
    "\n",
    "# Itera attraverso le immagini\n",
    "for filename in os.listdir(image_dir):\n",
    "    if filename.endswith(\".png\"):\n",
    "        image_path = os.path.join(image_dir, filename)\n",
    "        mask_path = os.path.join(mask_dir, filename)\n",
    "        \n",
    "        # Carica immagine e maschera\n",
    "        image = cv2.imread(image_path)\n",
    "        mask = cv2.imread(mask_path, cv2.IMREAD_GRAYSCALE)\n",
    "        \n",
    "        # Genera le patch\n",
    "        patches, mask_patches = generate_patches(image, mask, patch_size)\n",
    "        \n",
    "        # Calcola la varianza e ordina le patch\n",
    "        variances = [calculate_variance(patch) for patch in mask_patches]\n",
    "        sorted_indices = np.argsort(variances)[::-1]  # Ordina per varianza decrescente\n",
    "        \n",
    "        # Seleziona le patch con maggiore varianza\n",
    "        top_k = 30  # Numero di patch da selezionare\n",
    "        for idx in sorted_indices[:top_k]:\n",
    "            patch = patches[idx]\n",
    "            mask_patch = mask_patches[idx]\n",
    "            patch_filename = f\"{filename[:-4]}_patch_{idx}.png\"\n",
    "            \n",
    "            # Salva le patch\n",
    "            cv2.imwrite(os.path.join(output_image_dir, patch_filename), patch)\n",
    "            cv2.imwrite(os.path.join(output_mask_dir, patch_filename), mask_patch)\n",
    "\n",
    "print(\"Patch generation completed.\")\n"
   ]
  },
  {
   "cell_type": "code",
   "execution_count": null,
   "metadata": {},
   "outputs": [],
   "source": []
  }
 ],
 "metadata": {
  "kernelspec": {
   "display_name": "dlnnl3",
   "language": "python",
   "name": "python3"
  },
  "language_info": {
   "codemirror_mode": {
    "name": "ipython",
    "version": 3
   },
   "file_extension": ".py",
   "mimetype": "text/x-python",
   "name": "python",
   "nbconvert_exporter": "python",
   "pygments_lexer": "ipython3",
   "version": "3.10.14"
  }
 },
 "nbformat": 4,
 "nbformat_minor": 2
}
